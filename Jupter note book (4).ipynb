{
 "cells": [
  {
   "cell_type": "markdown",
   "metadata": {
    "collapsed": true
   },
   "source": [
    "\n",
    "Final Capstone Project\n",
    "Introduction\n",
    "Alex wants to open a Pizza place in one of the neighborhoods in Washington, D.C. I am going to recommend him the best neighborhood to open this place.\n",
    "\n",
    "Business Problem\n",
    "We will have need information about the neighborhoods in Washington DC for Alex to open his Pizza Place. Additionally, we need to make sure that the neighborhood he opens the pizza place will have enough customers(we look look at university/ school/ offices data for this) and also make sure there are not a large amount of other pizza places in that neighborhood.\n",
    "\n",
    "Data\n",
    "To recommend Alex the best neighborhood to open a Pizza place, we will leverage the following sources for data\n",
    "\n",
    "Neighborhoods in Washington, D.C: https://en.wikipedia.org/wiki/Neighborhoods_in_Washington,_D.C.\n",
    "The coordinates of these neighborhoods from Open Street Map APIs\n",
    "Extract following venues data from FourSquare API\n",
    "Pizza Place in the neighborhoods\n",
    "College & University\n",
    "Offices"
   ]
  },
  {
   "cell_type": "code",
   "execution_count": null,
   "metadata": {},
   "outputs": [
    {
     "name": "stdout",
     "output_type": "stream",
     "text": [
      "Solving environment: done\n",
      "\n",
      "# All requested packages already installed.\n",
      "\n",
      "Solving environment: done\n",
      "\n",
      "# All requested packages already installed.\n",
      "\n",
      "Solving environment: - ^C\n",
      "failed\n",
      "\n",
      "CondaError: KeyboardInterrupt\n",
      "\n",
      "Solving environment: - "
     ]
    }
   ],
   "source": [
    "!conda install -c anaconda beautifulsoup4 \n",
    "!conda install -c anaconda requests\n",
    "!conda install -c conda-forge geocoder \n",
    "!conda install -c conda-forge folium=0.5.0 --yes \n",
    "!conda install -c conda-forge geopy --yes"
   ]
  },
  {
   "cell_type": "code",
   "execution_count": null,
   "metadata": {},
   "outputs": [],
   "source": [
    "import requests\n",
    "import pandas as pd\n",
    "from bs4 import BeautifulSoup\n",
    "import geocoder # import geocoder\n",
    "import folium \n",
    "from geopy.geocoders import Nominatim\n",
    "import numpy as np\n",
    "import matplotlib.cm as cm\n",
    "import matplotlib.colors as colors\n",
    "from sklearn.cluster import KMeans\n",
    "import re\n",
    "print('Libraries Imported')\n"
   ]
  },
  {
   "cell_type": "code",
   "execution_count": null,
   "metadata": {},
   "outputs": [],
   "source": [
    "website_url = requests.get('https://en.wikipedia.org/wiki/Neighborhoods_in_Washington,_D.C.').text\n",
    "soup = BeautifulSoup(website_url,'lxml')\n",
    "neighbourhoods = []\n",
    "headers = soup.find_all('ul')\n",
    "links =[]\n",
    "for x in range(2,10):\n",
    "    temp =[]\n",
    "    temp = headers[x].find_all('li')\n",
    "    for y in temp:\n",
    "        links.append(y)\n",
    "for x in links:\n",
    "    a = x.find_all('a')\n",
    "    if(len(a) > 0):\n",
    "        temp = re.split(' \\(|, ',((x.find('a')).get('title')))#append neighbourhoods in array for hyperlink\n",
    "        if temp[0] not in neighbourhoods:\n",
    "            neighbourhoods.append(temp[0])\n",
    "    else:\n",
    "        if x.text not in neighbourhoods:\n",
    "            neighbourhoods.append(x.text) #append neighborhoods \n",
    "wash_dc_neighbourhoods=pd.DataFrame()\n",
    "wash_dc_neighbourhoods['Neighbourhoods'] = neighbourhoods\n",
    "wash_dc_neighbourhoods.head()"
   ]
  },
  {
   "cell_type": "code",
   "execution_count": null,
   "metadata": {},
   "outputs": [],
   "source": [
    "print('There are {} neighbourhoods in Washington D.C.'.format(wash_dc_neighbourhoods.shape[0]))"
   ]
  },
  {
   "cell_type": "code",
   "execution_count": null,
   "metadata": {},
   "outputs": [],
   "source": [
    "neighbourhoodlatitude =[]\n",
    "neighbourhoodlongitude =[]\n",
    "for index, row in wash_dc_neighbourhoods.iterrows():\n",
    "    url = '{0}{1}{2}'.format('http://nominatim.openstreetmap.org/search.php?q=',\n",
    "                             row['Neighbourhoods']+', Washington D.C.',\n",
    "                             '&format=json&polygon=0')\n",
    "    response = requests.get(url).json()\n",
    "    if(len(response) == 0):\n",
    "        indexNames = wash_dc_neighbourhoods[ wash_dc_neighbourhoods['Neighbourhoods'] == row['Neighbourhoods']].index\n",
    "        wash_dc_neighbourhoods.drop(indexNames,inplace=True)\n",
    "    else:\n",
    "        response = response[0]\n",
    "        lst = [response.get(key) for key in ['lat','lon']]\n",
    "        output = [float(i) for i in lst]\n",
    "        neighbourhoodlatitude.append(output[0])\n",
    "        neighbourhoodlongitude.append(output[1])\n",
    "wash_dc_neighbourhoods['Latitude'] = neighbourhoodlatitude\n",
    "wash_dc_neighbourhoods['Longitude'] = neighbourhoodlongitude\n",
    "wash_dc_neighbourhoods.head()"
   ]
  },
  {
   "cell_type": "code",
   "execution_count": null,
   "metadata": {},
   "outputs": [],
   "source": [
    "address = 'Washington, D.C.'\n",
    "\n",
    "geolocator = Nominatim(user_agent=\"dc_explorer\")\n",
    "wash_dc_location = geolocator.geocode(address)\n",
    "wash_dc_latitude = wash_dc_location.latitude\n",
    "wash_dc_longitude = wash_dc_location.longitude\n",
    "print('The geographical co-ordinates of Washington, D.C. are {}, {}.'.format(wash_dc_latitude, wash_dc_longitude))"
   ]
  },
  {
   "cell_type": "code",
   "execution_count": null,
   "metadata": {},
   "outputs": [],
   "source": [
    "map_washington_dc = folium.Map(location=[wash_dc_latitude, wash_dc_longitude], zoom_start=12)\n",
    "\n",
    "# add markers to map\n",
    "for lat, lng, neighbourhood in zip(wash_dc_neighbourhoods['Latitude'], wash_dc_neighbourhoods['Longitude'], wash_dc_neighbourhoods['Neighbourhoods']):\n",
    "    label = neighbourhood\n",
    "    label = folium.Popup(label, parse_html=True)\n",
    "    folium.CircleMarker(\n",
    "        [lat, lng],\n",
    "        radius=5,\n",
    "        popup=label,\n",
    "        color='navy',\n",
    "        fill=True,\n",
    "        fill_color='royalblue',\n",
    "        fill_opacity=0.7,\n",
    "        parse_html=False).add_to(map_washington_dc)  \n",
    "    \n",
    "map_washington_dc"
   ]
  },
  {
   "cell_type": "code",
   "execution_count": null,
   "metadata": {},
   "outputs": [],
   "source": [
    "CLIENT_ID = 'IQBZI3LY1CFPHDSLB04WSNB13J4BYM2SPVUH13OHMHLBWYXL' # your Foursquare ID\n",
    "CLIENT_SECRET = 'SXGGJXB5HJSVRLZ5FLOOD3HXBHS2QFMTNHFS1CXBAZXDHB3N' # your Foursquare Secret\n",
    "VERSION = '20190801' # Foursquare API version\n",
    "LIMIT = 250 # limit of number of venues returned by Foursquare API"
   ]
  },
  {
   "cell_type": "code",
   "execution_count": null,
   "metadata": {},
   "outputs": [],
   "source": [
    "import urllib\n",
    "def getNearbyVenues(neighbourhood, latitudes, longitudes, categoryIds, radius):\n",
    "    try:\n",
    "        wash_dc_venues_list=[]\n",
    "        for name, lat, lng in zip(neighbourhood, latitudes, longitudes):\n",
    "            # create the API request URL\n",
    "            url = 'https://api.foursquare.com/v2/venues/search?&client_id={}&client_secret={}&v={}&ll={},{}&radius={}&limit={}&categoryId={}'.format(CLIENT_ID, CLIENT_SECRET, VERSION, lat, lng, radius, LIMIT, categoryIds)\n",
    "            # make the GET request\n",
    "            response = requests.get(url).json()\n",
    "            results = response['response']['venues']\n",
    "            # return only relevant information for each nearby venue\n",
    "            for venues in results:\n",
    "                success = False\n",
    "                try:\n",
    "                    category = venues['categories'][0]['name']\n",
    "                    success = True\n",
    "                except:\n",
    "                    pass\n",
    "\n",
    "                if success:\n",
    "                    wash_dc_venues_list.append([(name, lat, lng, venues['name'], venues['location']['lat'], venues['location']['lng'],\n",
    "                        venues['categories'][0]['name']\n",
    "                    )])\n",
    "\n",
    "        wash_dc_nearby_venues = pd.DataFrame([item for wash_dc_venue_list in wash_dc_venues_list for item in wash_dc_venue_list])\n",
    "        wash_dc_nearby_venues.columns = ['Neighbourhoods', 'Latitude', 'Longitude', 'Venue_Name', 'Venue_Latitude', 'Venue_Longitude', 'Venue_Category']\n",
    "    except:\n",
    "        print(url)\n",
    "\n",
    "    return(wash_dc_nearby_venues)"
   ]
  },
  {
   "cell_type": "code",
   "execution_count": null,
   "metadata": {},
   "outputs": [],
   "source": [
    "wash_dc_venues_pizza = getNearbyVenues(neighbourhood=wash_dc_neighbourhoods['Neighbourhoods'], latitudes=wash_dc_neighbourhoods['Latitude'], longitudes=wash_dc_neighbourhoods['Longitude'], categoryIds='4bf58dd8d48988d1ca941735', radius=750)\n",
    "wash_dc_venues_pizza.head()"
   ]
  },
  {
   "cell_type": "code",
   "execution_count": null,
   "metadata": {},
   "outputs": [],
   "source": [
    "map_washington_dc_pizza_places = folium.Map(location=[wash_dc_latitude, wash_dc_longitude], zoom_start=12)\n",
    "\n",
    "# add markers to map\n",
    "for venue_latitude, venue_longitude, neighbourhood, venue_name in zip(wash_dc_venues_pizza['Venue_Latitude'], wash_dc_venues_pizza['Venue_Longitude'], wash_dc_venues_pizza['Neighbourhoods'], wash_dc_venues_pizza['Venue_Name']):\n",
    "    label = '{} - {}'.format(venue_name, neighbourhood)\n",
    "    label = folium.Popup(label, parse_html=True)\n",
    "    folium.CircleMarker(\n",
    "        [venue_latitude, venue_longitude],\n",
    "        radius=5,\n",
    "        popup=label,\n",
    "        color='maroon',\n",
    "        fill=True,\n",
    "        fill_color='lightcoral',\n",
    "        fill_opacity=0.7,\n",
    "        parse_html=False).add_to(map_washington_dc_pizza_places)  \n",
    "    \n",
    "map_washington_dc_pizza_places"
   ]
  },
  {
   "cell_type": "code",
   "execution_count": null,
   "metadata": {},
   "outputs": [],
   "source": [
    "wash_dc_venues_highschools = getNearbyVenues(neighbourhood=wash_dc_neighbourhoods['Neighbourhoods'], latitudes=wash_dc_neighbourhoods['Latitude'], longitudes=wash_dc_neighbourhoods['Longitude'], categoryIds='4bf58dd8d48988d13d941735',radius=750)\n",
    "wash_dc_venues_highschools.head()"
   ]
  },
  {
   "cell_type": "code",
   "execution_count": null,
   "metadata": {},
   "outputs": [],
   "source": [
    "map_washington_dc_highschools = folium.Map(location=[wash_dc_latitude, wash_dc_longitude], zoom_start=12)\n",
    "\n",
    "# add markers to map\n",
    "for venue_latitude, venue_longitude, neighbourhood, venue_name in zip(wash_dc_venues_highschools['Venue_Latitude'], wash_dc_venues_highschools['Venue_Longitude'], wash_dc_venues_highschools['Neighbourhoods'], wash_dc_venues_highschools['Venue_Name']):\n",
    "    label = '{} - {}'.format(venue_name, neighbourhood)\n",
    "    label = folium.Popup(label, parse_html=True)\n",
    "    folium.CircleMarker(\n",
    "        [venue_latitude, venue_longitude],\n",
    "        radius=5,\n",
    "        popup=label,\n",
    "        color='green',\n",
    "        fill=True,\n",
    "        fill_color='honeydew',\n",
    "        fill_opacity=0.7,\n",
    "        parse_html=False).add_to(map_washington_dc_highschools)  \n",
    "    \n",
    "map_washington_dc_highschools"
   ]
  },
  {
   "cell_type": "code",
   "execution_count": null,
   "metadata": {},
   "outputs": [],
   "source": [
    "wash_dc_venues_university = getNearbyVenues(neighbourhood=wash_dc_neighbourhoods['Neighbourhoods'], latitudes=wash_dc_neighbourhoods['Latitude'], longitudes=wash_dc_neighbourhoods['Longitude'], categoryIds='4bf58dd8d48988d1ae941735', radius=750)\n",
    "wash_dc_venues_university.head()"
   ]
  },
  {
   "cell_type": "code",
   "execution_count": null,
   "metadata": {},
   "outputs": [],
   "source": [
    "map_washington_dc_universities = folium.Map(location=[wash_dc_latitude, wash_dc_longitude], zoom_start=12)\n",
    "\n",
    "# add markers to map\n",
    "for venue_latitude, venue_longitude, neighbourhood, venue_name in zip(wash_dc_venues_university['Venue_Latitude'], wash_dc_venues_university['Venue_Longitude'], wash_dc_venues_university['Neighbourhoods'], wash_dc_venues_university['Venue_Name']):\n",
    "    label = '{} - {}'.format(venue_name, neighbourhood)\n",
    "    label = folium.Popup(label, parse_html=True)\n",
    "    folium.CircleMarker(\n",
    "        [venue_latitude, venue_longitude],\n",
    "        radius=5,\n",
    "        popup=label,\n",
    "        color='rebeccapurple',\n",
    "        fill=True,\n",
    "        fill_color='plum',\n",
    "        fill_opacity=0.7,\n",
    "        parse_html=False).add_to(map_washington_dc_universities)  \n",
    "    \n",
    "map_washington_dc_universities"
   ]
  },
  {
   "cell_type": "code",
   "execution_count": null,
   "metadata": {},
   "outputs": [],
   "source": [
    "def mergedf(wash_dc_neighbourhoods_venues, df, newcolname):\n",
    "    grouped_wash_dc_venues = pd.DataFrame()\n",
    "    grouped_wash_dc_venues=df.groupby('Neighbourhoods').count()\n",
    "    for neighbourhoods in wash_dc_neighbourhoods_venues['Neighbourhoods']:\n",
    "        if((grouped_wash_dc_venues.index).contains(neighbourhoods)):\n",
    "            wash_dc_neighbourhoods_venues.loc[wash_dc_neighbourhoods_venues['Neighbourhoods'] == neighbourhoods,newcolname] = grouped_wash_dc_venues.loc[neighbourhoods, 'Venue_Name']\n",
    "    return wash_dc_neighbourhoods_venues"
   ]
  },
  {
   "cell_type": "code",
   "execution_count": null,
   "metadata": {},
   "outputs": [],
   "source": [
    "wash_dc_neighbourhoods_venues = pd.DataFrame()\n",
    "wash_dc_neighbourhoods_venues = wash_dc_neighbourhoods.copy()\n",
    "wash_dc_neighbourhoods_venues = mergedf(wash_dc_neighbourhoods_venues, wash_dc_venues_pizza, 'Pizza')\n",
    "wash_dc_neighbourhoods_venues = mergedf(wash_dc_neighbourhoods_venues, wash_dc_venues_highschools, 'High_Schools')\n",
    "wash_dc_neighbourhoods_venues = mergedf(wash_dc_neighbourhoods_venues, wash_dc_venues_university, 'Universities')\n",
    "wash_dc_neighbourhoods_venues = mergedf(wash_dc_neighbourhoods_venues, wash_dc_venues_offices, 'Offices')\n",
    "wash_dc_neighbourhoods_venues.fillna(value=0,inplace=True)\n",
    "wash_dc_neighbourhoods_venues.head()"
   ]
  },
  {
   "cell_type": "code",
   "execution_count": null,
   "metadata": {},
   "outputs": [],
   "source": [
    "weight_pizza = -1 # negative weight, because Alex wants to avoid concurrence as much as possible\n",
    "weight_highschools = 1 #high school customers\n",
    "weight_universities = 1.5 # university customers\n",
    "weight_offices = 2 # office customers"
   ]
  },
  {
   "cell_type": "code",
   "execution_count": null,
   "metadata": {},
   "outputs": [],
   "source": [
    "weighted_wash_dc_neighbourhoods_venues = wash_dc_neighbourhoods_venues[['Neighbourhoods']].copy()\n",
    "weighted_wash_dc_neighbourhoods_venues['Score'] = wash_dc_neighbourhoods_venues['Pizza'] * weight_pizza + wash_dc_neighbourhoods_venues['High_Schools'] * weight_highschools + wash_dc_neighbourhoods_venues['Universities'] * weight_universities + wash_dc_neighbourhoods_venues['Offices'] * weight_offices\n",
    "weighted_wash_dc_neighbourhoods_venues = weighted_wash_dc_neighbourhoods_venues.sort_values(by=['Score'], ascending=False)\n",
    "weighted_wash_dc_neighbourhoods_venues"
   ]
  },
  {
   "cell_type": "code",
   "execution_count": null,
   "metadata": {},
   "outputs": [],
   "source": [
    "map_dupontcircle_venues = folium.Map(location=[wash_dc_neighbourhoods[wash_dc_neighbourhoods['Neighbourhoods'] == 'Foggy Bottom']['Latitude'].values[0], wash_dc_neighbourhoods[wash_dc_neighbourhoods['Neighbourhoods'] == 'Dupont Circle']['Longitude'].values[0]], zoom_start=15)\n",
    "\n",
    "# Plot pizza places in Dupont Circle\n",
    "dupont_venues_pizza = wash_dc_venues_pizza[wash_dc_venues_pizza['Neighbourhoods'] == 'Foggy Bottom']\n",
    "for venue_latitude, venue_longitude, neighbourhood, venue_name in zip(dupont_venues_pizza['Venue_Latitude'], dupont_venues_pizza['Venue_Longitude'], dupont_venues_pizza['Neighbourhoods'], dupont_venues_pizza['Venue_Name']):\n",
    "    label = '{} - {}'.format(venue_name, neighbourhood)\n",
    "    label = folium.Popup(label, parse_html=True)\n",
    "    folium.CircleMarker(\n",
    "        [venue_latitude, venue_longitude],\n",
    "        radius=5,\n",
    "        popup=label,\n",
    "        color='maroon',\n",
    "        fill=True,\n",
    "        fill_color='lightcoral',\n",
    "        fill_opacity=0.7,\n",
    "        parse_html=False).add_to(map_dupontcircle_venues) \n",
    "\n",
    "# Plot high schools in Dupont Circle\n",
    "dupont_venues_highschools = wash_dc_venues_highschools[wash_dc_venues_highschools['Neighbourhoods'] == 'Foggy Bottom']    \n",
    "for venue_latitude, venue_longitude, neighbourhood, venue_name in zip(dupont_venues_highschools['Venue_Latitude'], dupont_venues_highschools['Venue_Longitude'], dupont_venues_highschools['Neighbourhoods'], dupont_venues_highschools['Venue_Name']):\n",
    "    label = '{} - {}'.format(venue_name, neighbourhood)\n",
    "    label = folium.Popup(label, parse_html=True)\n",
    "    folium.CircleMarker(\n",
    "        [venue_latitude, venue_longitude],\n",
    "        radius=5,\n",
    "        popup=label,\n",
    "        color='green',\n",
    "        fill=True,\n",
    "        fill_color='honeydew',\n",
    "        fill_opacity=0.7,\n",
    "        parse_html=False).add_to(map_dupontcircle_venues)  \n",
    "\n",
    "# Plot universities in Dupont Circle\n",
    "dupont_venues_universties = wash_dc_venues_university[wash_dc_venues_university['Neighbourhoods'] == 'Foggy Bottom']\n",
    "for venue_latitude, venue_longitude, neighbourhood, venue_name in zip(dupont_venues_universties['Venue_Latitude'], dupont_venues_universties['Venue_Longitude'], dupont_venues_universties['Neighbourhoods'], dupont_venues_universties['Venue_Name']):\n",
    "    label = '{} - {}'.format(venue_name, neighbourhood)\n",
    "    label = folium.Popup(label, parse_html=True)\n",
    "    folium.CircleMarker(\n",
    "        [venue_latitude, venue_longitude],\n",
    "        radius=5,\n",
    "        popup=label,\n",
    "        color='rebeccapurple',\n",
    "        fill=True,\n",
    "        fill_color='plum',\n",
    "        fill_opacity=0.7,\n",
    "        parse_html=False).add_to(map_dupontcircle_venues) \n",
    "\n",
    "# Plot offices in Dupont Circle\n",
    "dupont_venues_offices = wash_dc_venues_offices[wash_dc_venues_offices['Neighbourhoods'] == 'Foggy Bottom']\n",
    "for venue_latitude, venue_longitude, neighbourhood, venue_name in zip(dupont_venues_offices['Venue_Latitude'], dupont_venues_offices['Venue_Longitude'], dupont_venues_offices['Neighbourhoods'], dupont_venues_offices['Venue_Name']):\n",
    "    label = '{} - {}'.format(venue_name, neighbourhood)\n",
    "    label = folium.Popup(label, parse_html=True)\n",
    "    folium.CircleMarker(\n",
    "        [venue_latitude, venue_longitude],\n",
    "        radius=5,\n",
    "        popup=label,\n",
    "        color='black',\n",
    "        fill=True,\n",
    "        fill_color='silver',\n",
    "        fill_opacity=0.7,\n",
    "        parse_html=False).add_to(map_dupontcircle_venues)  \n",
    "\n",
    "map_dupontcircle_venues\n"
   ]
  }
 ],
 "metadata": {
  "kernelspec": {
   "display_name": "Python 3.6",
   "language": "python",
   "name": "python3"
  },
  "language_info": {
   "codemirror_mode": {
    "name": "ipython",
    "version": 3
   },
   "file_extension": ".py",
   "mimetype": "text/x-python",
   "name": "python",
   "nbconvert_exporter": "python",
   "pygments_lexer": "ipython3",
   "version": "3.6.8"
  }
 },
 "nbformat": 4,
 "nbformat_minor": 1
}
