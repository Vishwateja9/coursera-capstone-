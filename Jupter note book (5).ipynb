{
 "cells": [
  {
   "cell_type": "markdown",
   "metadata": {
    "collapsed": true
   },
   "source": [
    "### Final Capstone Project\n",
    "## Introduction"
   ]
  },
  {
   "cell_type": "markdown",
   "metadata": {},
   "source": [
    "#### Alex wants to open a Pizza place in one of the neighborhoods in Washington, D.C.\n",
    "#### I am going to recommend him the best neighborhood to open this place."
   ]
  },
  {
   "cell_type": "markdown",
   "metadata": {},
   "source": [
    "##### Business Problem\n",
    "##### We will have need information about the neighborhoods in Washington DC for Alex to open his Pizza Place. Additionally, we need to make \n",
    "##### sure that the neighborhood he opens the pizza place will have enough customers(we look look at university/ school/ offices data for this) \n",
    "##### and also make sure there are not a large amount of other pizza places in that neighborhood."
   ]
  },
  {
   "cell_type": "markdown",
   "metadata": {},
   "source": [
    "### Data\n",
    "\n",
    "#### To recommend Alex the best neighborhood to open a Pizza place, we will leverage the following sources for data\n",
    "\n",
    "##### 1) Neighborhoods in Washington, D.C: https://en.wikipedia.org/wiki/Neighborhoods_in_Washington,_D.C.\n",
    "##### 2) The coordinates of these neighborhoods from Open Street Map APIs\n",
    "##### 3) Extract following venues data from FourSquare API\n",
    "##### 4) Pizza Place in the neighborhoods\n",
    "##### 5) College & University\n",
    "##### 6) Offices"
   ]
  },
  {
   "cell_type": "code",
   "execution_count": null,
   "metadata": {},
   "outputs": [],
   "source": []
  }
 ],
 "metadata": {
  "kernelspec": {
   "display_name": "Python 3.6",
   "language": "python",
   "name": "python3"
  },
  "language_info": {
   "codemirror_mode": {
    "name": "ipython",
    "version": 3
   },
   "file_extension": ".py",
   "mimetype": "text/x-python",
   "name": "python",
   "nbconvert_exporter": "python",
   "pygments_lexer": "ipython3",
   "version": "3.6.8"
  }
 },
 "nbformat": 4,
 "nbformat_minor": 1
}
